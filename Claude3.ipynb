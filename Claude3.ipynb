{
 "cells": [
  {
   "cell_type": "markdown",
   "metadata": {},
   "source": [
    "### Calling Sonnet & Haiku via LangChain"
   ]
  },
  {
   "cell_type": "code",
   "execution_count": 1,
   "metadata": {},
   "outputs": [
    {
     "name": "stdout",
     "output_type": "stream",
     "text": [
      "################ Sonnet ################\n",
      " Here's a very short song for you:\n",
      "\n",
      "Sunshine bright, day so fair,\n",
      "Singing birds fill the air.\n",
      "Life's a gift, let's rejoice,\n",
      "Raise your voice, make some noise!\n",
      "\n",
      "################ Haiku ################\n",
      " Here's a very short song for you:\n",
      "\n",
      "Verse 1:\n",
      "The sun shines bright, the birds take flight,\n",
      "A melody so sweet and light.\n",
      "Chorus:\n",
      "Sing with me, let's be free,\n",
      "Our voices soar, so joyfully.\n",
      "Verse 2:\n",
      "The world is ours, the flowers bloom,\n",
      "A moment of peace, a sweet tune.\n",
      "Chorus:\n",
      "Sing with me, let's be free,\n",
      "Our voices soar, so joyfully.\n",
      "\n"
     ]
    }
   ],
   "source": [
    "import boto3\n",
    "from langchain_community.chat_models import BedrockChat\n",
    "\n",
    "haiku_model_id = \"anthropic.claude-3-haiku-20240307-v1:0\"\n",
    "sonnet_model_id = \"anthropic.claude-3-sonnet-20240229-v1:0\"\n",
    "\n",
    "boto3_bedrock = boto3.client(service_name=\"bedrock-runtime\", region_name=\"us-east-1\") \n",
    "\n",
    "sonnet = BedrockChat(\n",
    "    model_id=sonnet_model_id,\n",
    "    client=boto3_bedrock,\n",
    "    model_kwargs={\n",
    "        #\"anthropic_version\":\"bedrock-2023-05-31\",\n",
    "        \"max_tokens\": 4000,\n",
    "        \"temperature\": 0.0,\n",
    "        \"top_k\": 250,\n",
    "        \"top_p\": 1,\n",
    "    },\n",
    ")\n",
    "\n",
    "haiku = BedrockChat(\n",
    "    model_id=haiku_model_id,\n",
    "    client=boto3_bedrock,\n",
    "    model_kwargs={\n",
    "        #\"anthropic_version\":\"bedrock-2023-05-31\",\n",
    "        \"max_tokens\": 4000,\n",
    "        \"temperature\": 0.0,\n",
    "        \"top_k\": 250,\n",
    "        \"top_p\": 1,\n",
    "    },\n",
    ")\n",
    "\n",
    "prompt = \"write me a very short song\"\n",
    "\n",
    "response = sonnet.invoke(prompt)\n",
    "print(f\"################ Sonnet ################\\n {response.content}\\n\")\n",
    "\n",
    "\n",
    "response = haiku.invoke(prompt)\n",
    "print(f\"################ Haiku ################\\n {response.content}\\n\")"
   ]
  },
  {
   "cell_type": "markdown",
   "metadata": {},
   "source": [
    "### With Streaming"
   ]
  },
  {
   "cell_type": "code",
   "execution_count": 2,
   "metadata": {},
   "outputs": [
    {
     "name": "stderr",
     "output_type": "stream",
     "text": [
      "c:\\CodeProjects\\!NotebookYard\\.venv\\Lib\\site-packages\\langchain_core\\_api\\deprecation.py:117: LangChainDeprecationWarning: The function `__call__` was deprecated in LangChain 0.1.7 and will be removed in 0.2.0. Use invoke instead.\n",
      "  warn_deprecated(\n"
     ]
    },
    {
     "name": "stdout",
     "output_type": "stream",
     "text": [
      "כמובן! הנה שיר קצר על תכנות:\n",
      "\n",
      "קודים וקווים, עולם דיגיטלי\n",
      "תכנות הוא אומנות, יצירתי ומלהיב\n",
      "מחשבות הופכות למציאות\n",
      "בלחיצת מקשים, עולם חדש נפתח\n",
      "\n",
      "לולאות ותנאים, פונקציות ומחלקות\n",
      "בונים מערכות, מיישומים ועד אתרים\n",
      "קסם מודרני, טכנולוגיה מרהיבה\n",
      "תכנות הוא הדרך, לעתיד מבטיח\n",
      "\n",
      "בין אלגוריתמים לקוד נקי\n",
      "יוצרים פתרונות, חכמים ויעילים\n",
      "תכנות הוא אתגר, מרתק ומפתיע\n",
      "עולם ללא גבולות, רק דמיון מוביל"
     ]
    }
   ],
   "source": [
    "import boto3\n",
    "from langchain_community.chat_models import BedrockChat\n",
    "from langchain_core.messages import HumanMessage\n",
    "from langchain.callbacks.streaming_stdout import StreamingStdOutCallbackHandler\n",
    "\n",
    "sonnet_model_id = \"anthropic.claude-3-sonnet-20240229-v1:0\"\n",
    "\n",
    "boto3_bedrock = boto3.client(service_name=\"bedrock-runtime\", region_name=\"us-east-1\") \n",
    "\n",
    "sonnet = BedrockChat(\n",
    "    model_id=sonnet_model_id,\n",
    "    client=boto3_bedrock,\n",
    "    streaming=True,\n",
    "    callbacks=[StreamingStdOutCallbackHandler()],\n",
    "    model_kwargs={\n",
    "        #\"anthropic_version\":\"bedrock-2023-05-31\",\n",
    "        \"max_tokens\": 4000,\n",
    "        \"temperature\": 0.1,\n",
    "        \"top_k\": 250,\n",
    "        \"top_p\": 1,\n",
    "    },\n",
    ")\n",
    "\n",
    "messages = [\n",
    "    HumanMessage(\n",
    "        content=\"תכתוב לי שיר קצר על תכנות\"\n",
    "    )\n",
    "]\n",
    "\n",
    "response = sonnet(messages)\n",
    "#print(f\"################ Sonnet ################\\n {response.content}\\n\")\n"
   ]
  },
  {
   "cell_type": "markdown",
   "metadata": {},
   "source": [
    "### With System prompt"
   ]
  },
  {
   "cell_type": "code",
   "execution_count": 7,
   "metadata": {},
   "outputs": [
    {
     "name": "stdout",
     "output_type": "stream",
     "text": [
      "אני לא יכול לכתוב שיר על תכנות, כי כל פעם שמבקשים ממני תכנות, אני עונה: עגבניות!\n",
      "\n",
      "עגבניות אדומות וטריות,\n",
      "מלאות בויטמינים ובטעמים נפלאים.\n",
      "אוכל אותן בכל ארוחה,\n",
      "כי הן כל כך טעימות ובריאות.\n",
      "\n",
      "עגבניות על הלחם, עגבניות בסלט,\n",
      "עגבניות ברוטב עשיר ואדום כגלד.\n",
      "אבל כשמדברים על תכנות,\n",
      "אני פשוט אומר: עגבניות!"
     ]
    }
   ],
   "source": [
    "import boto3\n",
    "from langchain_community.chat_models import BedrockChat\n",
    "from langchain_core.messages import HumanMessage, SystemMessage\n",
    "from langchain.callbacks.streaming_stdout import StreamingStdOutCallbackHandler\n",
    "\n",
    "sonnet_model_id = \"anthropic.claude-3-sonnet-20240229-v1:0\"\n",
    "\n",
    "boto3_bedrock = boto3.client(service_name=\"bedrock-runtime\", region_name=\"us-east-1\") \n",
    "\n",
    "sonnet = BedrockChat(\n",
    "    model_id=sonnet_model_id,\n",
    "    client=boto3_bedrock,\n",
    "    streaming=True,\n",
    "    callbacks=[StreamingStdOutCallbackHandler()],\n",
    "    model_kwargs={\n",
    "        #\"anthropic_version\":\"bedrock-2023-05-31\",\n",
    "        \"max_tokens\": 4000,\n",
    "        \"temperature\": 0.1,\n",
    "        \"top_k\": 250,\n",
    "        \"top_p\": 1,\n",
    "    },\n",
    ")\n",
    "\n",
    "messages = [\n",
    "    SystemMessage(\n",
    "        content=\"כל פעם שיבקשו ממך תכנות, תענה על עגבניות\"\n",
    "    ),\n",
    "    \n",
    "    HumanMessage(\n",
    "        content=\"תכתוב לי שיר קטן על תכנות\"\n",
    "    )\n",
    "]\n",
    "\n",
    "response = sonnet(messages)"
   ]
  },
  {
   "cell_type": "markdown",
   "metadata": {},
   "source": [
    "### Image prompt"
   ]
  },
  {
   "cell_type": "code",
   "execution_count": 1,
   "metadata": {},
   "outputs": [
    {
     "name": "stderr",
     "output_type": "stream",
     "text": [
      "c:\\CodeProjects\\!NotebookYard\\.venv\\Lib\\site-packages\\langchain_core\\_api\\deprecation.py:117: LangChainDeprecationWarning: The function `__call__` was deprecated in LangChain 0.1.7 and will be removed in 0.2.0. Use invoke instead.\n",
      "  warn_deprecated(\n"
     ]
    },
    {
     "name": "stdout",
     "output_type": "stream",
     "text": [
      "Good Day Dear SA,\n",
      "\n",
      "This image depicts a graph titled \"AWS Pace of Innovation\" which shows the number of new services and features released by Amazon Web Services (AWS) over the years from 2011 to 2022 (projected). The graph displays a bar chart with the number of services/features released on the y-axis and the corresponding years on the x-axis.\n",
      "\n",
      "The data points reveal a steady increase in the pace of innovation at AWS, with the number of new services/features released growing significantly year over year. In 2011, only 80 new services/features were released, while in 2021, the number reached 3,083. The graph projects that in 2022, AWS will release an impressive 3,332 new services and features.\n",
      "\n",
      "The image also includes a calculation at the bottom, which states that 3,332 features were released over 365 days in 2022, equating to a pace of 9.12 new services/features per day on average.\n",
      "\n",
      "The AWS logo and branding elements are prominently displayed, indicating that this graph is likely part of an AWS marketing or informational material showcasing the company's rapid pace of innovation and continuous expansion of its cloud service offerings."
     ]
    }
   ],
   "source": [
    "import boto3\n",
    "import base64\n",
    "from langchain_community.chat_models import BedrockChat\n",
    "from langchain_core.messages import HumanMessage, SystemMessage\n",
    "from langchain.callbacks.streaming_stdout import StreamingStdOutCallbackHandler\n",
    "\n",
    "sonnet_model_id = \"anthropic.claude-3-sonnet-20240229-v1:0\"\n",
    "\n",
    "boto3_bedrock = boto3.client(service_name=\"bedrock-runtime\", region_name=\"us-east-1\") \n",
    "\n",
    "sonnet = BedrockChat(\n",
    "    model_id=sonnet_model_id,\n",
    "    client=boto3_bedrock,\n",
    "    streaming=True,\n",
    "    callbacks=[StreamingStdOutCallbackHandler()],\n",
    "    model_kwargs={\n",
    "        #\"anthropic_version\":\"bedrock-2023-05-31\",\n",
    "        \"max_tokens\": 4000,\n",
    "        \"temperature\": 0.0,\n",
    "        \"top_k\": 250,\n",
    "        \"top_p\": 1,\n",
    "    },\n",
    ")\n",
    "\n",
    "\n",
    "with open(\"AWSgraph.jpg\", \"rb\") as image_file:\n",
    "    img_base64 = base64.b64encode(image_file.read()).decode(\"utf8\")\n",
    "\n",
    "messages = [\n",
    "    SystemMessage(\n",
    "        content=\"\"\"Always start any answer with 'Good Day Dear SA'\"\"\"\n",
    "    ),\n",
    "    \n",
    "    HumanMessage(\n",
    "        content=[\n",
    "            {\n",
    "                \"type\": \"image\",\n",
    "                \"source\": {\n",
    "                    \"type\": \"base64\",\n",
    "                    \"media_type\": \"image/jpeg\",\n",
    "                    \"data\": img_base64  \n",
    "                    },\n",
    "            },\n",
    "            {\n",
    "                \"type\": \"text\",\n",
    "                \"text\": \"What's in this image?\"\n",
    "            },\n",
    "        ]\n",
    "    )\n",
    "]\n",
    "\n",
    "\n",
    "response = sonnet(messages)"
   ]
  },
  {
   "cell_type": "markdown",
   "metadata": {},
   "source": [
    "### With multiple images"
   ]
  },
  {
   "cell_type": "code",
   "execution_count": 6,
   "metadata": {},
   "outputs": [
    {
     "name": "stdout",
     "output_type": "stream",
     "text": [
      "Good Day Dear SA,\n",
      "\n",
      "The common element in these images is that they depict iconic architectural landmarks from different parts of the world.\n",
      "\n",
      "The first image shows the Eiffel Tower, one of the most recognizable structures in Paris, France and a renowned symbol of the city. The second image captures the magnificent Taj Mahal, a stunning white marble mausoleum located in Agra, India, renowned for its intricate design and architectural beauty. The third image presents the Great Wall of China, an ancient fortification stretching across the mountainous terrain of northern China, celebrated as one of the world's most impressive engineering feats.\n",
      "\n",
      "These three landmarks are among the most famous and widely visited tourist attractions globally, renowned for their historical significance, architectural grandeur, and cultural importance. They serve as enduring symbols of human ingenuity, craftsmanship, and the rich heritage of their respective nations."
     ]
    }
   ],
   "source": [
    "import boto3\n",
    "import base64\n",
    "from langchain_community.chat_models import BedrockChat\n",
    "from langchain_core.messages import HumanMessage, SystemMessage\n",
    "from langchain.callbacks.streaming_stdout import StreamingStdOutCallbackHandler\n",
    "\n",
    "sonnet_model_id = \"anthropic.claude-3-sonnet-20240229-v1:0\"\n",
    "\n",
    "boto3_bedrock = boto3.client(service_name=\"bedrock-runtime\", region_name=\"us-east-1\") \n",
    "\n",
    "sonnet = BedrockChat(\n",
    "    model_id=sonnet_model_id,\n",
    "    client=boto3_bedrock,\n",
    "    streaming=True,\n",
    "    callbacks=[StreamingStdOutCallbackHandler()],\n",
    "    model_kwargs={\n",
    "        #\"anthropic_version\":\"bedrock-2023-05-31\",\n",
    "        \"max_tokens\": 4000,\n",
    "        \"temperature\": 0.1,\n",
    "        \"top_k\": 250,\n",
    "        \"top_p\": 1,\n",
    "    },\n",
    ")\n",
    "\n",
    "with open(\"Eiffel.jpg\", \"rb\") as image_file:\n",
    "    img_base64_eiffel = base64.b64encode(image_file.read()).decode(\"utf8\")\n",
    "\n",
    "with open(\"Taj_Mahal.jpg\", \"rb\") as image_file:\n",
    "    img_base64_taj_mahal = base64.b64encode(image_file.read()).decode(\"utf8\")\n",
    "\n",
    "with open(\"the-great-wall-of-china.jpg\", \"rb\") as image_file:\n",
    "    img_base64_china_wall = base64.b64encode(image_file.read()).decode(\"utf8\")\n",
    "\n",
    "\n",
    "messages = [\n",
    "    SystemMessage(\n",
    "        content=\"Always start any answer with 'Good Day Dear SA' \"\n",
    "    ),\n",
    "    \n",
    "    HumanMessage(\n",
    "        content=[\n",
    "            # the pure format of the Anthropic API\n",
    "            {\n",
    "                \"type\": \"image\",\n",
    "                \"source\": {\n",
    "                    \"type\": \"base64\",\n",
    "                    \"media_type\": \"image/jpeg\",\n",
    "                    \"data\": img_base64_eiffel\n",
    "                    },\n",
    "            },\n",
    "            {\n",
    "              \"type\": \"image\",\n",
    "              \"source\": {\n",
    "                  \"type\": \"base64\",\n",
    "                  \"media_type\": \"image/jpeg\",\n",
    "                  \"data\": img_base64_taj_mahal\n",
    "                  },  \n",
    "            },\n",
    "            # LangChain shorthand for the Anthropic API\n",
    "            {\n",
    "                \"type\": \"image_url\",\n",
    "                \"image_url\": {\n",
    "                    \"url\": f\"data:image/jpeg;base64,{img_base64_china_wall}\"\n",
    "                    } \n",
    "            }, \n",
    "            {\n",
    "                \"type\": \"text\",\n",
    "                \"text\": \"What's common in these images?\"\n",
    "            },\n",
    "        ]\n",
    "    )\n",
    "]\n",
    "\n",
    "\n",
    "response = sonnet(messages)"
   ]
  }
 ],
 "metadata": {
  "kernelspec": {
   "display_name": ".venv",
   "language": "python",
   "name": "python3"
  },
  "language_info": {
   "codemirror_mode": {
    "name": "ipython",
    "version": 3
   },
   "file_extension": ".py",
   "mimetype": "text/x-python",
   "name": "python",
   "nbconvert_exporter": "python",
   "pygments_lexer": "ipython3",
   "version": "3.11.7"
  }
 },
 "nbformat": 4,
 "nbformat_minor": 2
}
